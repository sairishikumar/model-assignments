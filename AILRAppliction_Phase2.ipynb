{
 "cells": [
  {
   "cell_type": "code",
   "execution_count": 3,
   "id": "269697c3-cb4d-49b2-88d0-1821e504d961",
   "metadata": {},
   "outputs": [],
   "source": [
    "import pickle\n",
    "#here this phase2 new file here i just import the pickle"
   ]
  },
  {
   "cell_type": "code",
   "execution_count": 14,
   "id": "54b7256c-3b69-48c7-9939-a4ae62e28565",
   "metadata": {},
   "outputs": [
    {
     "name": "stderr",
     "output_type": "stream",
     "text": [
      "C:\\ProgramData\\anaconda3\\Lib\\site-packages\\sklearn\\base.py:493: UserWarning: X does not have valid feature names, but LinearRegression was fitted with feature names\n",
      "  warnings.warn(\n"
     ]
    }
   ],
   "source": [
    "loaded_model=pickle.load(open(\"final assignment_linear_model.sav\",'rb'))\n",
    "## once dump for write we need to perform pickel.load method to open my final file namne to read bias in Phase2 agin\n",
    "#all these operation store into Loaded_model\n",
    "result=loaded_model.predict([[0]])\n",
    "#here i checked my model with 0 years of experience"
   ]
  },
  {
   "cell_type": "code",
   "execution_count": 16,
   "id": "8f956a11-405d-4c93-806c-5d87783f671d",
   "metadata": {},
   "outputs": [
    {
     "data": {
      "text/plain": [
       "array([[26777.3913412]])"
      ]
     },
     "execution_count": 16,
     "metadata": {},
     "output_type": "execute_result"
    }
   ],
   "source": [
    "result\n",
    "#result shows the for 0 years of experience 26777.3 this shows model bias or orgin value\n"
   ]
  },
  {
   "cell_type": "code",
   "execution_count": null,
   "id": "8c173dc4-a0f9-45ed-98d1-6654c52f703b",
   "metadata": {},
   "outputs": [],
   "source": []
  },
  {
   "cell_type": "code",
   "execution_count": null,
   "id": "05f81df0-01d3-45d7-b6f7-71ac9feb889a",
   "metadata": {},
   "outputs": [],
   "source": []
  }
 ],
 "metadata": {
  "kernelspec": {
   "display_name": "Python 3 (ipykernel)",
   "language": "python",
   "name": "python3"
  },
  "language_info": {
   "codemirror_mode": {
    "name": "ipython",
    "version": 3
   },
   "file_extension": ".py",
   "mimetype": "text/x-python",
   "name": "python",
   "nbconvert_exporter": "python",
   "pygments_lexer": "ipython3",
   "version": "3.12.4"
  }
 },
 "nbformat": 4,
 "nbformat_minor": 5
}
